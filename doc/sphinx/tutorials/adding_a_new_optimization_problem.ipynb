{
 "metadata": {
  "name": ""
 },
 "nbformat": 3,
 "nbformat_minor": 0,
 "worksheets": [
  {
   "cells": [
    {
     "cell_type": "heading",
     "level": 1,
     "metadata": {},
     "source": [
      "Adding a new optimization problem"
     ]
    },
    {
     "cell_type": "markdown",
     "metadata": {},
     "source": [
      "In this Tutorial we will learn how to code simple optimization problems (continuous, single objective, unconstrained), so that PyGMO can then apply all of its algorithmic power to solve it. In a nutshell, we will write a class deriving from **PyGMO.problem.base** and reimplement some of its \u2018virtual\u2019 methods."
     ]
    },
    {
     "cell_type": "heading",
     "level": 2,
     "metadata": {},
     "source": [
      "Simple single objective problem"
     ]
    },
    {
     "cell_type": "markdown",
     "metadata": {},
     "source": [
      "Let us start with defining one of the classic textbook examples of an optimization problem."
     ]
    },
    {
     "cell_type": "code",
     "collapsed": false,
     "input": [
      "from PyGMO.problem import base\n",
      "\n",
      "class my_problem(base):\n",
      "    \"\"\"\n",
      "    De Jong (sphere) function implemented purely in Python.\n",
      "    \n",
      "    USAGE: my_problem(dim=10)\n",
      "    \n",
      "    * dim problem dimension\n",
      "    \"\"\"\n",
      "    \n",
      "    def __init__(self, dim=10):\n",
      "        # First we call the constructor of the base class telling PyGMO\n",
      "        # what kind of problem to expect ('dim' dimensions, 1 objective, 0 contraints etc.)\n",
      "        super(my_problem,self).__init__(dim)\n",
      "    \n",
      "        # We set the problem bounds (in this case equal for all components)\n",
      "        self.set_bounds(-5.12, 5.12)\n",
      "    \n",
      "    # Reimplement the virtual method that defines the objective function.\n",
      "    def _objfun_impl(self, x):\n",
      "        \n",
      "        # Compute the sphere function\n",
      "        f = sum([x[i] ** 2 for i in range(self.dimension)])\n",
      "        \n",
      "        # Note that we return a tuple with one element only. In PyGMO the objective functions\n",
      "        # return tuples so that multi-objective optimization is also possible.\n",
      "        return (f, )\n",
      "    \n",
      "    # Finally we also reimplement a virtual method that adds some output to the __repr__ method\n",
      "    def human_readable_extra(self):\n",
      "        return \"\\n\\t Problem dimension: \" + str(self.__dim)"
     ],
     "language": "python",
     "metadata": {},
     "outputs": [],
     "prompt_number": 1
    },
    {
     "cell_type": "markdown",
     "metadata": {},
     "source": [
      "Note that by default PyGMO will assume one wants to minimize the objective function. In the second part of this tutorial we will also see how it is possible to change this default behaviour.\n",
      "\n",
      "To solve our problem we will use Artificial Bee Colony algorithm with 20 individuals.\n"
     ]
    },
    {
     "cell_type": "code",
     "collapsed": false,
     "input": [
      "from PyGMO import algorithm, island\n",
      "\n",
      "prob = my_problem(dim=10)  # Create a 10-dimensional problem\n",
      "algo = algorithm.bee_colony(gen=500)  # 500 generations of bee_colony algorithm\n",
      "isl = island(algo, prob, 20)  # Instantiate population with 20 individuals\n",
      "isl.evolve(1)  # Evolve the island once\n",
      "isl.join()\n",
      "print(isl.population.champion.f)"
     ],
     "language": "python",
     "metadata": {},
     "outputs": [
      {
       "output_type": "stream",
       "stream": "stdout",
       "text": [
        "(5.800103096468531e-25,)"
       ]
      },
      {
       "output_type": "stream",
       "stream": "stdout",
       "text": [
        "\n"
       ]
      }
     ],
     "prompt_number": 6
    },
    {
     "cell_type": "markdown",
     "metadata": {},
     "source": [
      "And we are done! Objective value in the order of $10^{-25}$, no big deal for a sphere problem.\n",
      "\n"
     ]
    },
    {
     "cell_type": "heading",
     "level": 2,
     "metadata": {},
     "source": [
      "Maximization problem"
     ]
    },
    {
     "cell_type": "markdown",
     "metadata": {},
     "source": [
      "Let\u2019s consider now a maximization problem. To solve such a problem, two possibilities are available to the PaGMO/PyGMO user. The first one is to code the original problem as a minimization problem by premultiplying the objective function by $-1$ (a technique wich is often used and requires no particular effort). If such a method is used, the final fitness value obtained with PyGMO has to be multiplied by $-1$ to get back to the correct value.\n",
      "\n",
      "A second method, more elegant and most of all serving the purpose to show the use of another virtual method which can be reimplemented in python objects deriving from base, is to override the function that compares two fitness vectors. This function is used by all pagmo algorithms to compare performances of individuals. By default, this function compares the fitness $f_1$ to a fitness $f_2$ and returns true if $f_1$ dominates $f_2$ (which is single objective optimization correspond to minimization). Let us see how..."
     ]
    },
    {
     "cell_type": "code",
     "collapsed": false,
     "input": [
      "class my_problem_max(base):\n",
      "    \"\"\"\n",
      "    Analytical function to maximize.\n",
      "\n",
      "    USAGE: my_problem_max()\n",
      "    \"\"\"\n",
      "    \n",
      "    def __init__(self):\n",
      "        super(my_problem_max,self).__init__(2)\n",
      "        self.set_bounds(-10, 10)\n",
      "        \n",
      "        # We provide a list of the best known solutions to the problem\n",
      "        self.best_x = [[1.0, -1.0], ]\n",
      "\n",
      "    # Reimplement the virtual method that defines the objective function\n",
      "    def _objfun_impl(self, x):\n",
      "        f = -(1.0 - x[0]) ** 2 - 100 * (-x[0] ** 2 - x[1]) ** 2 - 1.0\n",
      "        return (f, )\n",
      "\n",
      "    # Reimplement the virtual method that compares fitnesses\n",
      "    def _compare_fitness_impl(self, f1, f2):\n",
      "        return f1[0] > f2[0]\n",
      "\n",
      "    # Add some output to __repr__\n",
      "    def human_readable_extra(self):\n",
      "        return \"\\n\\tMaximization problem\""
     ],
     "language": "python",
     "metadata": {},
     "outputs": [],
     "prompt_number": 9
    },
    {
     "cell_type": "markdown",
     "metadata": {},
     "source": [
      "Additionally in the constructor we provide a list of all known global minima (we will use those later for testing).\n",
      "The list of corresponding objective function values will be then computed and accessible through **best_f** of the problem's instance.\n",
      "\n",
      "As before, we use our favorite optimization algorithm:"
     ]
    },
    {
     "cell_type": "code",
     "collapsed": false,
     "input": [
      "from math import sqrt\n",
      "\n",
      "prob = my_problem_max()\n",
      "algo = algorithm.de(gen=20)\n",
      "isl = island(algo, prob, 20)\n",
      "isl.evolve(10)\n",
      "isl.join()\n",
      "\n",
      "print(\"Best individual:\")\n",
      "print(isl.population.champion)\n",
      "\n",
      "print(\"Comparison of the best found fitness with the best known fitness:\")\n",
      "for best_fitness in prob.best_f:\n",
      "    print(best_fitness[0] - isl.population.champion.f[0])\n",
      "\n",
      "print(\"L2 distance to the best decision vector:\")\n",
      "for best_decision in prob.best_x:\n",
      "    l2_norm = 0\n",
      "    for n in range(0, len(best_decision)):\n",
      "        l2_norm +=  (best_decision[n] - isl.population.champion.x[n]) ** 2\n",
      "    l2_norm = sqrt(l2_norm)\n",
      "    print(l2_norm)"
     ],
     "language": "python",
     "metadata": {},
     "outputs": [
      {
       "output_type": "stream",
       "stream": "stdout",
       "text": [
        "Best individual:"
       ]
      },
      {
       "output_type": "stream",
       "stream": "stdout",
       "text": [
        "\n",
        "\tDecision vector:\t[1.0000035381312899, -1.000007979785372]\n",
        "\tConstraints vector:\t[]\n",
        "\tFitness vector:\t\t[-1.0000000000941514]\n",
        "\n",
        "Comparison of the best found fitness with the best known fitness:\n",
        "9.41513533803e-11\n",
        "L2 distance to the best decision vector:\n",
        "8.72899465051e-06\n"
       ]
      }
     ],
     "prompt_number": 13
    },
    {
     "cell_type": "markdown",
     "metadata": {},
     "source": [
      "Note here that we used the **best_f** and **best_x** methods which return the best known fitness and decision vectors. The **best_f** vector is automatically available as we defined **best_x** in the problem. With these vectors, we can have an idea of the optimizer performances. The result of this optimization should be in order of $10^{-11}$ for the comparison with the best fitness and $10^{-6}$ for the distance to the best decision vector."
     ]
    },
    {
     "cell_type": "heading",
     "level": 2,
     "metadata": {},
     "source": [
      "Multi-objective problem"
     ]
    },
    {
     "cell_type": "markdown",
     "metadata": {},
     "source": [
      "As hinted before, users can also define their own multi-objective problem.\n",
      "In that case we need to overload the the base constructor with third argument stating the desired objective function dimension and return a tuple or a list with more than one element in the objective function implementation (both dimensions must agree)."
     ]
    },
    {
     "cell_type": "code",
     "collapsed": false,
     "input": [
      "class my_mo_problem(base):\n",
      "    \"\"\"\n",
      "    A multi-objective problem.\n",
      "    (This is actually a Python implementation of 2-dimensional ZDT-1 problem)\n",
      "\n",
      "    USAGE: my_mo_problem()\n",
      "    \"\"\"\n",
      "    \n",
      "    def __init__(self, dim=2):\n",
      "        # We call the base constructor as 'dim' dimensional problem, with 0 integer parts and 2 objectives.\n",
      "        super(my_mo_problem,self).__init__(dim, 0, 2)\n",
      "        self.set_bounds(0.0, 1.0)\n",
      "\n",
      "    # Reimplement the virtual method that defines the objective function\n",
      "    def _objfun_impl(self, x):\n",
      "        f0 = x[0]\n",
      "        g = 1.0 + 4.5 * x[1]\n",
      "        f1 = g * (1.0 - sqrt(f0 / g))\n",
      "        return (f0, f1, )\n",
      "\n",
      "    # Add some output to __repr__\n",
      "    def human_readable_extra(self):\n",
      "        return \"\\n\\tMulti-Objective problem\""
     ],
     "language": "python",
     "metadata": {},
     "outputs": [],
     "prompt_number": 14
    },
    {
     "cell_type": "markdown",
     "metadata": {},
     "source": [
      "We instantiate our problem as before, but this time we use one of the multi-objective algorithms available in PaGMO:"
     ]
    },
    {
     "cell_type": "code",
     "collapsed": false,
     "input": [
      "from PyGMO import population\n",
      "\n",
      "prob = my_mo_problem()\n",
      "algo = algorithm.sms_emoa(gen=2000)  # 2000 generations of SMS-EMOA should solve it\n",
      "pop = population(prob, 30)\n",
      "pop = algo.evolve(pop)"
     ],
     "language": "python",
     "metadata": {},
     "outputs": [],
     "prompt_number": 15
    },
    {
     "cell_type": "markdown",
     "metadata": {},
     "source": [
      "Since in the Multi-Objective world the idea of a single 'champion' solution is not very well defined, we plot the Pareto front of the whole population, i.e., the two objectives $f_i^{(1)}$ and $f_i^{(2)}$ of each individual $i \\in 1,\\ldots,30$."
     ]
    },
    {
     "cell_type": "code",
     "collapsed": false,
     "input": [
      "%matplotlib inline\n",
      "import matplotlib.pyplot as plt\n",
      "import numpy as np\n",
      "\n",
      "# Fold each objectives into vectors and print the Pareto front\n",
      "F = np.array([ind.cur_f for ind in pop]).T\n",
      "plt.scatter(F[0], F[1])\n",
      "plt.xlabel(\"$f^{(1)}$\")\n",
      "plt.ylabel(\"$f^{(2)}$\")\n",
      "plt.show()"
     ],
     "language": "python",
     "metadata": {},
     "outputs": [
      {
       "metadata": {},
       "output_type": "display_data",
       "png": "[encoded data removed]",
       "text": [
        "<matplotlib.figure.Figure at 0x7f75f5f37fd0>"
       ]
      }
     ],
     "prompt_number": 16
    },
    {
     "cell_type": "markdown",
     "metadata": {},
     "source": [
      "NOTE1: This problems of tutorial are implemented in PyGMO under the name **PyGMO.problem.py_example** and **PyGMO.problem.py_example_max**\n",
      "\n",
      "NOTE2: When evolve is called from an island, the process is forked and transferred to another python or ipython instance. As a consequence, when writing your **_obj_fun_impl** you cannot use stuff like matplotlib to make interactive plots and alike. If you need, during development, to have this kind of support, use the algorithm evolve method (see the optimization of the Multi-Objective problemabove)"
     ]
    },
    {
     "cell_type": "markdown",
     "metadata": {},
     "source": [
      "NOTE3: If performance is your goal, you should implement your problem in C++, and then expose it into Python."
     ]
    }
   ],
   "metadata": {}
  }
 ]
}